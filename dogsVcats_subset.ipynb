{
  "cells": [
    {
      "cell_type": "markdown",
      "metadata": {
        "colab_type": "text",
        "id": "3bSXLX4pkdxs"
      },
      "source": [
        "# Dogs v Cats\n",
        "**End to End Image Classification project using TensorFlow**"
      ]
    },
    {
      "cell_type": "markdown",
      "metadata": {
        "colab_type": "text",
        "id": "IeD6Or9EIHnw"
      },
      "source": [
        "The objective of this project is to develop a model capable of correctly classifying images of Dogs and Cats."
      ]
    },
    {
      "cell_type": "markdown",
      "metadata": {
        "colab_type": "text",
        "id": "GCpudobC8dhY"
      },
      "source": [
        "I am going to work on a subset of the original Dogs vs. Cats Dataset (**3000 images sampled from the original dataset of 25000 images**) to demonstrate techniques such as Image Augmentation and Droputs and how these techniques contribute in improving performance. The smaller dataset spares us a lot of computing power. I plan on demonstrating my work on the original dataset which demands GPU/High Computing power soon."
      ]
    },
    {
      "cell_type": "markdown",
      "metadata": {
        "colab_type": "text",
        "id": "i8bjDaCAEEs-"
      },
      "source": [
        "The Original Dataset with 25,000 training images of dogs and cats can be found [here](https://www.kaggle.com/c/dogs-vs-cats/data)"
      ]
    },
    {
      "cell_type": "markdown",
      "metadata": {
        "colab_type": "text",
        "id": "3NCsLrRmuIip"
      },
      "source": [
        "**Get the data** (Smaller Dataset)"
      ]
    },
    {
      "cell_type": "code",
      "execution_count": null,
      "metadata": {
        "colab": {
          "base_uri": "https://localhost:8080/",
          "height": 204
        },
        "colab_type": "code",
        "id": "S5pqidzJAKPD",
        "outputId": "0cc1118b-026d-437d-a920-5d7047d77ec7"
      },
      "outputs": [
        {
          "name": "stdout",
          "output_type": "stream",
          "text": [
            "--2019-09-11 20:38:19--  https://storage.googleapis.com/mledu-datasets/cats_and_dogs_filtered.zip\n",
            "Resolving storage.googleapis.com (storage.googleapis.com)... 108.177.127.128, 2a00:1450:4013:c07::80\n",
            "Connecting to storage.googleapis.com (storage.googleapis.com)|108.177.127.128|:443... connected.\n",
            "HTTP request sent, awaiting response... 200 OK\n",
            "Length: 68606236 (65M) [application/zip]\n",
            "Saving to: ‘/tmp/cats_and_dogs_filtered.zip’\n",
            "\n",
            "/tmp/cats_and_dogs_ 100%[===================>]  65.43M   130MB/s    in 0.5s    \n",
            "\n",
            "2019-09-11 20:38:20 (130 MB/s) - ‘/tmp/cats_and_dogs_filtered.zip’ saved [68606236/68606236]\n",
            "\n"
          ]
        }
      ],
      "source": [
        "!wget --no-check-certificate \\\n",
        "    https://storage.googleapis.com/mledu-datasets/cats_and_dogs_filtered.zip \\\n",
        "    -O /tmp/cats_and_dogs_filtered.zip"
      ]
    },
    {
      "cell_type": "markdown",
      "metadata": {
        "colab_type": "text",
        "id": "3TQcJVqBuYi4"
      },
      "source": [
        "**Import libraries**"
      ]
    },
    {
      "cell_type": "code",
      "execution_count": null,
      "metadata": {
        "colab": {},
        "colab_type": "code",
        "id": "uyi-eUVGTe_j"
      },
      "outputs": [],
      "source": [
        "import os\n",
        "import zipfile\n",
        "import tensorflow as tf\n",
        "from tensorflow.keras.optimizers import RMSprop\n",
        "from tensorflow.keras.preprocessing.image import ImageDataGenerator"
      ]
    },
    {
      "cell_type": "markdown",
      "metadata": {
        "colab_type": "text",
        "id": "BxhrSsN4TC7K"
      },
      "source": [
        "The os library gives us access to the file system, and the zipfile library allows us to unzip the data. "
      ]
    },
    {
      "cell_type": "markdown",
      "metadata": {
        "colab_type": "text",
        "id": "gatL3NZbvj_p"
      },
      "source": [
        "**Create the respective directories**"
      ]
    },
    {
      "cell_type": "code",
      "execution_count": null,
      "metadata": {
        "colab": {},
        "colab_type": "code",
        "id": "CRLCp-a6vtCN"
      },
      "outputs": [],
      "source": [
        "local_zip = '/tmp/cats_and_dogs_filtered.zip'\n",
        "zip_ref = zipfile.ZipFile(local_zip, 'r')\n",
        "zip_ref.extractall('/tmp')\n",
        "zip_ref.close()\n",
        "\n",
        "base_dir = '/tmp/cats_and_dogs_filtered'\n",
        "train_dir = os.path.join(base_dir, 'train')\n",
        "validation_dir = os.path.join(base_dir, 'validation')\n",
        "\n",
        "# Directory with our training cat pictures\n",
        "train_cats_dir = os.path.join(train_dir, 'cats')\n",
        "\n",
        "# Directory with our training dog pictures\n",
        "train_dogs_dir = os.path.join(train_dir, 'dogs')\n",
        "\n",
        "# Directory with our validation cat pictures\n",
        "validation_cats_dir = os.path.join(validation_dir, 'cats')\n",
        "\n",
        "# Directory with our validation dog pictures\n",
        "validation_dogs_dir = os.path.join(validation_dir, 'dogs')"
      ]
    },
    {
      "cell_type": "markdown",
      "metadata": {
        "colab_type": "text",
        "id": "nBv1aFUMTus-"
      },
      "source": [
        "The contents of the .zip are extracted to the base directory /tmp/cats_and_dogs_filtered.zip"
      ]
    },
    {
      "cell_type": "markdown",
      "metadata": {
        "colab_type": "text",
        "id": "TU--6Jv0v6PQ"
      },
      "source": [
        "**Model with 4 convolutional layers with 32, 64, 128 and 128 convolutions respectively**"
      ]
    },
    {
      "cell_type": "markdown",
      "metadata": {
        "colab_type": "text",
        "id": "D72OzHazUUK9"
      },
      "source": [
        "We add convolutional layers, and flatten the final result to feed into the densely connected layers.\n",
        "As this is a 2 class classification problem, we use the [Sigmoid function](https://en.wikipedia.org/wiki/Sigmoid_function)"
      ]
    },
    {
      "cell_type": "code",
      "execution_count": null,
      "metadata": {
        "colab": {
          "base_uri": "https://localhost:8080/",
          "height": 88
        },
        "colab_type": "code",
        "id": "Aedt-HNewUP3",
        "outputId": "09cc6986-eb07-499d-ea6f-714f8035f3f3"
      },
      "outputs": [
        {
          "name": "stdout",
          "output_type": "stream",
          "text": [
            "WARNING:tensorflow:From /usr/local/lib/python3.6/dist-packages/tensorflow/python/ops/init_ops.py:1251: calling VarianceScaling.__init__ (from tensorflow.python.ops.init_ops) with dtype is deprecated and will be removed in a future version.\n",
            "Instructions for updating:\n",
            "Call initializer instance with the dtype argument instead of passing it to the constructor\n"
          ]
        }
      ],
      "source": [
        "model = tf.keras.models.Sequential([\n",
        "    # Note the input shape is the desired size of the image 150x150 with 3 bytes color\n",
        "    # This is the first convolution\n",
        "    tf.keras.layers.Conv2D(32, (3,3), activation='relu', input_shape=(150, 150, 3)),\n",
        "    tf.keras.layers.MaxPooling2D(2, 2),\n",
        "    # The second convolution\n",
        "    tf.keras.layers.Conv2D(64, (3,3), activation='relu'),\n",
        "    tf.keras.layers.MaxPooling2D(2,2),\n",
        "    # The third convolution\n",
        "    tf.keras.layers.Conv2D(128, (3,3), activation='relu'),\n",
        "    tf.keras.layers.MaxPooling2D(2,2),\n",
        "    # The fourth convolution\n",
        "    tf.keras.layers.Conv2D(128, (3,3), activation='relu'),\n",
        "    tf.keras.layers.MaxPooling2D(2,2),\n",
        "    # Flatten the results to feed into a DNN\n",
        "    tf.keras.layers.Flatten(),\n",
        "    # 512 neuron hidden layer\n",
        "    tf.keras.layers.Dense(512, activation='relu'),\n",
        "    # Only 1 output neuron. It will contain a value from 0-1 where 0 for 1 class and 1 for the other\n",
        "    tf.keras.layers.Dense(1, activation='sigmoid')\n",
        "])\n",
        "\n"
      ]
    },
    {
      "cell_type": "code",
      "execution_count": null,
      "metadata": {
        "colab": {
          "base_uri": "https://localhost:8080/",
          "height": 527
        },
        "colab_type": "code",
        "id": "tDtm3juUWpw6",
        "outputId": "7822dc4f-3aa1-47bc-a635-f5161b71d079"
      },
      "outputs": [
        {
          "name": "stdout",
          "output_type": "stream",
          "text": [
            "Model: \"sequential\"\n",
            "_________________________________________________________________\n",
            "Layer (type)                 Output Shape              Param #   \n",
            "=================================================================\n",
            "conv2d (Conv2D)              (None, 148, 148, 32)      896       \n",
            "_________________________________________________________________\n",
            "max_pooling2d (MaxPooling2D) (None, 74, 74, 32)        0         \n",
            "_________________________________________________________________\n",
            "conv2d_1 (Conv2D)            (None, 72, 72, 64)        18496     \n",
            "_________________________________________________________________\n",
            "max_pooling2d_1 (MaxPooling2 (None, 36, 36, 64)        0         \n",
            "_________________________________________________________________\n",
            "conv2d_2 (Conv2D)            (None, 34, 34, 128)       73856     \n",
            "_________________________________________________________________\n",
            "max_pooling2d_2 (MaxPooling2 (None, 17, 17, 128)       0         \n",
            "_________________________________________________________________\n",
            "conv2d_3 (Conv2D)            (None, 15, 15, 128)       147584    \n",
            "_________________________________________________________________\n",
            "max_pooling2d_3 (MaxPooling2 (None, 7, 7, 128)         0         \n",
            "_________________________________________________________________\n",
            "flatten (Flatten)            (None, 6272)              0         \n",
            "_________________________________________________________________\n",
            "dense (Dense)                (None, 512)               3211776   \n",
            "_________________________________________________________________\n",
            "dense_1 (Dense)              (None, 1)                 513       \n",
            "=================================================================\n",
            "Total params: 3,453,121\n",
            "Trainable params: 3,453,121\n",
            "Non-trainable params: 0\n",
            "_________________________________________________________________\n"
          ]
        }
      ],
      "source": [
        "model.summary()"
      ]
    },
    {
      "cell_type": "markdown",
      "metadata": {
        "colab_type": "text",
        "id": "GFnJT_vVWn1M"
      },
      "source": [
        "The \"output shape\" column shows how the size of your feature map evolves in each successive layer. The convolution layers reduce the size of the feature maps by a bit due to padding, and each pooling layer halves the dimensions.\n",
        "\n",
        "We use binary_crossentropy as the loss metric as we have 2 target classes (its a binary classification problem)\n",
        "\n",
        "Our optimizer is RMSprop with a learning rate of 0.0001 (We can experiment with this; Adam and Adagrad optimizers would also work well)\n"
      ]
    },
    {
      "cell_type": "code",
      "execution_count": null,
      "metadata": {
        "colab": {
          "base_uri": "https://localhost:8080/",
          "height": 88
        },
        "colab_type": "code",
        "id": "anR2p_UMX9TA",
        "outputId": "b816458e-2cf8-4f30-a953-cb11f9f9a157"
      },
      "outputs": [
        {
          "name": "stdout",
          "output_type": "stream",
          "text": [
            "WARNING:tensorflow:From /usr/local/lib/python3.6/dist-packages/tensorflow/python/ops/nn_impl.py:180: add_dispatch_support.<locals>.wrapper (from tensorflow.python.ops.array_ops) is deprecated and will be removed in a future version.\n",
            "Instructions for updating:\n",
            "Use tf.where in 2.0, which has the same broadcast rule as np.where\n"
          ]
        }
      ],
      "source": [
        "model.compile(loss='binary_crossentropy',\n",
        "              optimizer=RMSprop(lr=1e-4),\n",
        "              metrics=['acc'])"
      ]
    },
    {
      "cell_type": "markdown",
      "metadata": {
        "colab_type": "text",
        "id": "uKCh29ysxB9j"
      },
      "source": [
        "**Rescale the Images**"
      ]
    },
    {
      "cell_type": "markdown",
      "metadata": {
        "colab_type": "text",
        "id": "MyOO6EZ5YZZ-"
      },
      "source": [
        "The data generators read pictures in our source folders, convert them to float32 tensors, and feed them (with their labels) to our network. We'll have one generator for the training images and one for the validation images.\n",
        "\n",
        "Input data to the neural networks should be normalized to aid in processing. We will preprocess our images by normalizing the pixel values to be in the [0, 1] range (originally all values are in the [0, 255] range).\n",
        "\n",
        "In Keras this can be done via the keras.preprocessing.image.ImageDataGenerator class using the rescale parameter. This ImageDataGenerator class allows you to instantiate generators of augmented image batches (and their labels) via .flow(data, labels) or .flow_from_directory(directory). These generators can then be used with the Keras model methods that accept data generators as inputs: fit_generator, evaluate_generator, and predict_generator."
      ]
    },
    {
      "cell_type": "code",
      "execution_count": null,
      "metadata": {
        "colab": {},
        "colab_type": "code",
        "id": "6iogIhqTxGeX"
      },
      "outputs": [],
      "source": [
        "# All images will be rescaled by 1./255\n",
        "train_datagen = ImageDataGenerator(rescale=1./255)\n",
        "test_datagen = ImageDataGenerator(rescale=1./255)"
      ]
    },
    {
      "cell_type": "markdown",
      "metadata": {
        "colab_type": "text",
        "id": "XLhV5NI9xdgD"
      },
      "source": [
        "**Flow images in batches of 20 using train _datagen and test_datagen**"
      ]
    },
    {
      "cell_type": "code",
      "execution_count": null,
      "metadata": {
        "colab": {
          "base_uri": "https://localhost:8080/",
          "height": 51
        },
        "colab_type": "code",
        "id": "f9D_MjIHx2XD",
        "outputId": "abc41e7c-48a1-4dad-b3fe-4442f2cf6953"
      },
      "outputs": [
        {
          "name": "stdout",
          "output_type": "stream",
          "text": [
            "Found 2000 images belonging to 2 classes.\n",
            "Found 1000 images belonging to 2 classes.\n"
          ]
        }
      ],
      "source": [
        "# Flow training images in batches of 20 using train_datagen generator\n",
        "train_generator = train_datagen.flow_from_directory(\n",
        "        train_dir,  # This is the source directory for training images\n",
        "        target_size=(150, 150),  # All images will be resized to 150x150\n",
        "        batch_size=20,\n",
        "        # Since we use binary_crossentropy loss, we need binary labels\n",
        "        class_mode='binary')\n",
        "\n",
        "# Flow validation images in batches of 20 using test_datagen generator\n",
        "validation_generator = test_datagen.flow_from_directory(\n",
        "        validation_dir,\n",
        "        target_size=(150, 150),\n",
        "        batch_size=20,\n",
        "        class_mode='binary')"
      ]
    },
    {
      "cell_type": "markdown",
      "metadata": {
        "colab_type": "text",
        "id": "I8TfHlDGx8Gz"
      },
      "source": [
        "**Training**"
      ]
    },
    {
      "cell_type": "markdown",
      "metadata": {
        "colab_type": "text",
        "id": "UD-vFNgMyim_"
      },
      "source": [
        "Will train for 100 epochs and then plot loss and accuracy"
      ]
    },
    {
      "cell_type": "code",
      "execution_count": null,
      "metadata": {
        "colab": {
          "base_uri": "https://localhost:8080/",
          "height": 1000
        },
        "colab_type": "code",
        "id": "m6yLZpibyMXB",
        "outputId": "7944b730-b558-4ee7-9ed7-18021ed7af4a"
      },
      "outputs": [
        {
          "name": "stdout",
          "output_type": "stream",
          "text": [
            "Epoch 1/100\n",
            "100/100 - 12s - loss: 0.6862 - acc: 0.5275 - val_loss: 0.6794 - val_acc: 0.5600\n",
            "Epoch 2/100\n",
            "100/100 - 7s - loss: 0.6588 - acc: 0.5975 - val_loss: 0.6447 - val_acc: 0.6520\n",
            "Epoch 3/100\n",
            "100/100 - 7s - loss: 0.6144 - acc: 0.6605 - val_loss: 0.6087 - val_acc: 0.6840\n",
            "Epoch 4/100\n",
            "100/100 - 7s - loss: 0.5669 - acc: 0.7065 - val_loss: 0.5792 - val_acc: 0.7050\n",
            "Epoch 5/100\n",
            "100/100 - 7s - loss: 0.5355 - acc: 0.7280 - val_loss: 0.5607 - val_acc: 0.7100\n",
            "Epoch 6/100\n",
            "100/100 - 7s - loss: 0.5091 - acc: 0.7505 - val_loss: 0.5850 - val_acc: 0.7000\n",
            "Epoch 7/100\n",
            "100/100 - 7s - loss: 0.4808 - acc: 0.7635 - val_loss: 0.5404 - val_acc: 0.7350\n",
            "Epoch 8/100\n",
            "100/100 - 7s - loss: 0.4555 - acc: 0.7845 - val_loss: 0.5556 - val_acc: 0.7140\n",
            "Epoch 9/100\n",
            "100/100 - 7s - loss: 0.4326 - acc: 0.8055 - val_loss: 0.5566 - val_acc: 0.7240\n",
            "Epoch 10/100\n",
            "100/100 - 7s - loss: 0.4036 - acc: 0.8205 - val_loss: 0.5590 - val_acc: 0.7150\n",
            "Epoch 11/100\n",
            "100/100 - 7s - loss: 0.3756 - acc: 0.8285 - val_loss: 0.5555 - val_acc: 0.7320\n",
            "Epoch 12/100\n",
            "100/100 - 7s - loss: 0.3554 - acc: 0.8470 - val_loss: 0.5984 - val_acc: 0.7110\n",
            "Epoch 13/100\n",
            "100/100 - 7s - loss: 0.3396 - acc: 0.8620 - val_loss: 0.5471 - val_acc: 0.7410\n",
            "Epoch 14/100\n",
            "100/100 - 7s - loss: 0.3149 - acc: 0.8640 - val_loss: 0.5423 - val_acc: 0.7370\n",
            "Epoch 15/100\n",
            "100/100 - 7s - loss: 0.2975 - acc: 0.8845 - val_loss: 0.5481 - val_acc: 0.7470\n",
            "Epoch 16/100\n",
            "100/100 - 7s - loss: 0.2692 - acc: 0.8945 - val_loss: 0.5670 - val_acc: 0.7470\n",
            "Epoch 17/100\n",
            "100/100 - 7s - loss: 0.2505 - acc: 0.9080 - val_loss: 0.5524 - val_acc: 0.7510\n",
            "Epoch 18/100\n",
            "100/100 - 7s - loss: 0.2297 - acc: 0.9110 - val_loss: 0.5790 - val_acc: 0.7490\n",
            "Epoch 19/100\n",
            "100/100 - 7s - loss: 0.2084 - acc: 0.9165 - val_loss: 0.5583 - val_acc: 0.7710\n",
            "Epoch 20/100\n",
            "100/100 - 7s - loss: 0.1906 - acc: 0.9290 - val_loss: 0.6500 - val_acc: 0.7390\n",
            "Epoch 21/100\n",
            "100/100 - 8s - loss: 0.1681 - acc: 0.9405 - val_loss: 0.5910 - val_acc: 0.7540\n",
            "Epoch 22/100\n",
            "100/100 - 7s - loss: 0.1530 - acc: 0.9490 - val_loss: 0.6421 - val_acc: 0.7460\n",
            "Epoch 23/100\n",
            "100/100 - 7s - loss: 0.1237 - acc: 0.9585 - val_loss: 0.7776 - val_acc: 0.7450\n",
            "Epoch 24/100\n",
            "100/100 - 7s - loss: 0.1196 - acc: 0.9595 - val_loss: 0.6906 - val_acc: 0.7550\n",
            "Epoch 25/100\n",
            "100/100 - 7s - loss: 0.1005 - acc: 0.9640 - val_loss: 0.7055 - val_acc: 0.7550\n",
            "Epoch 26/100\n",
            "100/100 - 7s - loss: 0.0861 - acc: 0.9725 - val_loss: 0.7171 - val_acc: 0.7570\n",
            "Epoch 27/100\n",
            "100/100 - 7s - loss: 0.0790 - acc: 0.9750 - val_loss: 0.7999 - val_acc: 0.7480\n",
            "Epoch 28/100\n",
            "100/100 - 7s - loss: 0.0645 - acc: 0.9810 - val_loss: 0.8782 - val_acc: 0.7430\n",
            "Epoch 29/100\n",
            "100/100 - 7s - loss: 0.0576 - acc: 0.9840 - val_loss: 0.8763 - val_acc: 0.7510\n",
            "Epoch 30/100\n",
            "100/100 - 7s - loss: 0.0528 - acc: 0.9835 - val_loss: 0.8832 - val_acc: 0.7440\n",
            "Epoch 31/100\n",
            "100/100 - 7s - loss: 0.0398 - acc: 0.9900 - val_loss: 0.8590 - val_acc: 0.7600\n",
            "Epoch 32/100\n",
            "100/100 - 7s - loss: 0.0366 - acc: 0.9900 - val_loss: 0.9144 - val_acc: 0.7510\n",
            "Epoch 33/100\n",
            "100/100 - 7s - loss: 0.0315 - acc: 0.9940 - val_loss: 1.0203 - val_acc: 0.7470\n",
            "Epoch 34/100\n",
            "100/100 - 7s - loss: 0.0283 - acc: 0.9925 - val_loss: 1.0563 - val_acc: 0.7420\n",
            "Epoch 35/100\n",
            "100/100 - 8s - loss: 0.0345 - acc: 0.9890 - val_loss: 0.9555 - val_acc: 0.7470\n",
            "Epoch 36/100\n",
            "100/100 - 7s - loss: 0.0183 - acc: 0.9955 - val_loss: 1.0241 - val_acc: 0.7520\n",
            "Epoch 37/100\n",
            "100/100 - 7s - loss: 0.0231 - acc: 0.9950 - val_loss: 1.0736 - val_acc: 0.7560\n",
            "Epoch 38/100\n",
            "100/100 - 7s - loss: 0.0234 - acc: 0.9925 - val_loss: 1.4932 - val_acc: 0.7140\n",
            "Epoch 39/100\n",
            "100/100 - 7s - loss: 0.0145 - acc: 0.9965 - val_loss: 1.0620 - val_acc: 0.7590\n",
            "Epoch 40/100\n",
            "100/100 - 7s - loss: 0.0131 - acc: 0.9970 - val_loss: 1.1440 - val_acc: 0.7470\n",
            "Epoch 41/100\n",
            "100/100 - 7s - loss: 0.0095 - acc: 0.9990 - val_loss: 1.1980 - val_acc: 0.7480\n",
            "Epoch 42/100\n",
            "100/100 - 7s - loss: 0.0163 - acc: 0.9950 - val_loss: 1.6789 - val_acc: 0.7240\n",
            "Epoch 43/100\n",
            "100/100 - 7s - loss: 0.0114 - acc: 0.9970 - val_loss: 1.2924 - val_acc: 0.7610\n",
            "Epoch 44/100\n",
            "100/100 - 7s - loss: 0.0197 - acc: 0.9930 - val_loss: 1.3077 - val_acc: 0.7540\n",
            "Epoch 45/100\n",
            "100/100 - 7s - loss: 0.0047 - acc: 0.9995 - val_loss: 1.2841 - val_acc: 0.7550\n",
            "Epoch 46/100\n",
            "100/100 - 7s - loss: 0.0141 - acc: 0.9965 - val_loss: 1.3817 - val_acc: 0.7520\n",
            "Epoch 47/100\n",
            "100/100 - 7s - loss: 0.0053 - acc: 0.9990 - val_loss: 1.3732 - val_acc: 0.7600\n",
            "Epoch 48/100\n",
            "100/100 - 7s - loss: 0.0106 - acc: 0.9960 - val_loss: 1.3818 - val_acc: 0.7540\n",
            "Epoch 49/100\n",
            "100/100 - 7s - loss: 0.0087 - acc: 0.9980 - val_loss: 1.4308 - val_acc: 0.7520\n",
            "Epoch 50/100\n",
            "100/100 - 7s - loss: 0.0031 - acc: 0.9995 - val_loss: 1.5083 - val_acc: 0.7670\n",
            "Epoch 51/100\n",
            "100/100 - 7s - loss: 0.0199 - acc: 0.9945 - val_loss: 1.5499 - val_acc: 0.7500\n",
            "Epoch 52/100\n",
            "100/100 - 7s - loss: 0.0095 - acc: 0.9970 - val_loss: 1.4734 - val_acc: 0.7640\n",
            "Epoch 53/100\n",
            "100/100 - 7s - loss: 0.0079 - acc: 0.9985 - val_loss: 1.4693 - val_acc: 0.7560\n",
            "Epoch 54/100\n",
            "100/100 - 7s - loss: 0.0068 - acc: 0.9975 - val_loss: 1.5167 - val_acc: 0.7600\n",
            "Epoch 55/100\n",
            "100/100 - 7s - loss: 0.0171 - acc: 0.9945 - val_loss: 1.4972 - val_acc: 0.7500\n",
            "Epoch 56/100\n",
            "100/100 - 7s - loss: 0.0066 - acc: 0.9990 - val_loss: 1.5037 - val_acc: 0.7460\n",
            "Epoch 57/100\n",
            "100/100 - 7s - loss: 0.0061 - acc: 0.9985 - val_loss: 1.5701 - val_acc: 0.7370\n",
            "Epoch 58/100\n",
            "100/100 - 7s - loss: 0.0100 - acc: 0.9960 - val_loss: 1.6447 - val_acc: 0.7580\n",
            "Epoch 59/100\n",
            "100/100 - 7s - loss: 0.0028 - acc: 0.9990 - val_loss: 1.6307 - val_acc: 0.7500\n",
            "Epoch 60/100\n",
            "100/100 - 7s - loss: 0.0059 - acc: 0.9985 - val_loss: 1.8848 - val_acc: 0.7270\n",
            "Epoch 61/100\n",
            "100/100 - 7s - loss: 0.0080 - acc: 0.9970 - val_loss: 1.6432 - val_acc: 0.7360\n",
            "Epoch 62/100\n",
            "100/100 - 7s - loss: 5.7335e-04 - acc: 1.0000 - val_loss: 1.8396 - val_acc: 0.7440\n",
            "Epoch 63/100\n",
            "100/100 - 7s - loss: 0.0045 - acc: 0.9985 - val_loss: 1.7978 - val_acc: 0.7500\n",
            "Epoch 64/100\n",
            "100/100 - 7s - loss: 0.0097 - acc: 0.9975 - val_loss: 1.7653 - val_acc: 0.7550\n",
            "Epoch 65/100\n",
            "100/100 - 7s - loss: 0.0196 - acc: 0.9945 - val_loss: 1.7982 - val_acc: 0.7440\n",
            "Epoch 66/100\n",
            "100/100 - 7s - loss: 0.0072 - acc: 0.9975 - val_loss: 1.7690 - val_acc: 0.7560\n",
            "Epoch 67/100\n",
            "100/100 - 7s - loss: 0.0142 - acc: 0.9950 - val_loss: 1.6843 - val_acc: 0.7550\n",
            "Epoch 68/100\n",
            "100/100 - 7s - loss: 2.4795e-04 - acc: 1.0000 - val_loss: 2.8579 - val_acc: 0.7100\n",
            "Epoch 69/100\n",
            "100/100 - 7s - loss: 0.0082 - acc: 0.9960 - val_loss: 1.7315 - val_acc: 0.7490\n",
            "Epoch 70/100\n",
            "100/100 - 7s - loss: 0.0024 - acc: 0.9990 - val_loss: 1.7528 - val_acc: 0.7540\n",
            "Epoch 71/100\n",
            "100/100 - 7s - loss: 0.0028 - acc: 0.9980 - val_loss: 1.7237 - val_acc: 0.7540\n",
            "Epoch 72/100\n",
            "100/100 - 7s - loss: 0.0053 - acc: 0.9985 - val_loss: 1.9362 - val_acc: 0.7510\n",
            "Epoch 73/100\n",
            "100/100 - 7s - loss: 3.5734e-04 - acc: 1.0000 - val_loss: 1.9057 - val_acc: 0.7650\n",
            "Epoch 74/100\n",
            "100/100 - 7s - loss: 0.0032 - acc: 0.9990 - val_loss: 1.8786 - val_acc: 0.7420\n",
            "Epoch 75/100\n",
            "100/100 - 7s - loss: 0.0070 - acc: 0.9985 - val_loss: 1.9336 - val_acc: 0.7440\n",
            "Epoch 76/100\n",
            "100/100 - 7s - loss: 9.7285e-04 - acc: 0.9995 - val_loss: 1.8472 - val_acc: 0.7530\n",
            "Epoch 77/100\n",
            "100/100 - 7s - loss: 0.0073 - acc: 0.9980 - val_loss: 1.8662 - val_acc: 0.7510\n",
            "Epoch 78/100\n",
            "100/100 - 7s - loss: 0.0133 - acc: 0.9975 - val_loss: 1.8806 - val_acc: 0.7510\n",
            "Epoch 79/100\n",
            "100/100 - 7s - loss: 0.0071 - acc: 0.9975 - val_loss: 2.0460 - val_acc: 0.7380\n",
            "Epoch 80/100\n",
            "100/100 - 7s - loss: 1.5877e-04 - acc: 1.0000 - val_loss: 2.0957 - val_acc: 0.7460\n",
            "Epoch 81/100\n",
            "100/100 - 7s - loss: 0.0079 - acc: 0.9980 - val_loss: 2.0895 - val_acc: 0.7450\n",
            "Epoch 82/100\n",
            "100/100 - 7s - loss: 0.0020 - acc: 0.9985 - val_loss: 1.9697 - val_acc: 0.7580\n",
            "Epoch 83/100\n",
            "100/100 - 7s - loss: 0.0018 - acc: 0.9995 - val_loss: 2.0118 - val_acc: 0.7550\n",
            "Epoch 84/100\n",
            "100/100 - 7s - loss: 0.0079 - acc: 0.9975 - val_loss: 2.2126 - val_acc: 0.7500\n",
            "Epoch 85/100\n",
            "100/100 - 7s - loss: 1.7805e-04 - acc: 1.0000 - val_loss: 2.1232 - val_acc: 0.7510\n",
            "Epoch 86/100\n",
            "100/100 - 7s - loss: 0.0061 - acc: 0.9985 - val_loss: 2.1234 - val_acc: 0.7530\n",
            "Epoch 87/100\n",
            "100/100 - 7s - loss: 0.0013 - acc: 0.9995 - val_loss: 2.1405 - val_acc: 0.7490\n",
            "Epoch 88/100\n",
            "100/100 - 7s - loss: 1.7277e-04 - acc: 1.0000 - val_loss: 2.1773 - val_acc: 0.7470\n",
            "Epoch 89/100\n",
            "100/100 - 7s - loss: 0.0012 - acc: 0.9995 - val_loss: 2.0630 - val_acc: 0.7560\n",
            "Epoch 90/100\n",
            "100/100 - 7s - loss: 0.0184 - acc: 0.9965 - val_loss: 2.2742 - val_acc: 0.7490\n",
            "Epoch 91/100\n",
            "100/100 - 7s - loss: 4.1879e-04 - acc: 1.0000 - val_loss: 2.0863 - val_acc: 0.7540\n",
            "Epoch 92/100\n",
            "100/100 - 7s - loss: 0.0053 - acc: 0.9980 - val_loss: 2.2825 - val_acc: 0.7550\n",
            "Epoch 93/100\n",
            "100/100 - 7s - loss: 0.0049 - acc: 0.9975 - val_loss: 2.1776 - val_acc: 0.7560\n",
            "Epoch 94/100\n",
            "100/100 - 7s - loss: 0.0064 - acc: 0.9985 - val_loss: 2.1022 - val_acc: 0.7510\n",
            "Epoch 95/100\n",
            "100/100 - 7s - loss: 4.3354e-04 - acc: 1.0000 - val_loss: 2.2076 - val_acc: 0.7560\n",
            "Epoch 96/100\n",
            "100/100 - 7s - loss: 0.0039 - acc: 0.9985 - val_loss: 2.1721 - val_acc: 0.7480\n",
            "Epoch 97/100\n",
            "100/100 - 7s - loss: 0.0042 - acc: 0.9990 - val_loss: 2.2254 - val_acc: 0.7470\n",
            "Epoch 98/100\n",
            "100/100 - 7s - loss: 5.1725e-04 - acc: 0.9995 - val_loss: 3.0624 - val_acc: 0.7260\n",
            "Epoch 99/100\n",
            "100/100 - 7s - loss: 0.0027 - acc: 0.9990 - val_loss: 2.2303 - val_acc: 0.7550\n",
            "Epoch 100/100\n",
            "100/100 - 7s - loss: 0.0031 - acc: 0.9985 - val_loss: 2.3578 - val_acc: 0.7470\n"
          ]
        }
      ],
      "source": [
        "history = model.fit_generator(\n",
        "      train_generator,\n",
        "      steps_per_epoch=100,  # 2000 images = batch_size * steps\n",
        "      epochs=100,\n",
        "      validation_data=validation_generator,\n",
        "      validation_steps=50,  # 1000 images = batch_size * steps\n",
        "      verbose=2)"
      ]
    },
    {
      "cell_type": "markdown",
      "metadata": {
        "colab_type": "text",
        "id": "jJFgckBNyhu8"
      },
      "source": [
        "**Accuracy and Loss**"
      ]
    },
    {
      "cell_type": "code",
      "execution_count": null,
      "metadata": {
        "colab": {
          "base_uri": "https://localhost:8080/",
          "height": 545
        },
        "colab_type": "code",
        "id": "Bc-Y9ymQz1nq",
        "outputId": "391f6998-8282-480d-b857-0dd569d0e661"
      },
      "outputs": [
        {
          "data": {
            "image/png": "[encoded data removed]",
            "text/plain": [
              "<Figure size 432x288 with 1 Axes>"
            ]
          },
          "metadata": {
            "tags": []
          },
          "output_type": "display_data"
        },
        {
          "data": {
            "image/png": "[encoded data removed]",
            "text/plain": [
              "<Figure size 432x288 with 1 Axes>"
            ]
          },
          "metadata": {
            "tags": []
          },
          "output_type": "display_data"
        }
      ],
      "source": [
        "import matplotlib.pyplot as plt\n",
        "acc = history.history['acc']\n",
        "val_acc = history.history['val_acc']\n",
        "loss = history.history['loss']\n",
        "val_loss = history.history['val_loss']\n",
        "\n",
        "epochs = range(len(acc))\n",
        "\n",
        "plt.plot(epochs, acc, 'bo', label='Training accuracy')\n",
        "plt.plot(epochs, val_acc, 'b', label='Validation accuracy')\n",
        "plt.title('Training and validation accuracy')\n",
        "\n",
        "plt.figure()\n",
        "\n",
        "plt.plot(epochs, loss, 'bo', label='Training Loss')\n",
        "plt.plot(epochs, val_loss, 'b', label='Validation Loss')\n",
        "plt.title('Training and validation loss')\n",
        "plt.legend()\n",
        "\n",
        "plt.show()"
      ]
    },
    {
      "cell_type": "markdown",
      "metadata": {
        "colab_type": "text",
        "id": "XiGgKIzKz8pW"
      },
      "source": [
        "The graph show that we have a training accuracy of almost **100%**, while the validation accuracy is much lower in the **70%-75%** range.\n",
        "It's a classic case of **Overfitting**\n",
        "\n",
        "Our model does exceptionally well in case of images it has already seen and not so much with unseen images.\n",
        "\n",
        "We can apply a simple yet very effective technique here called **Image Augmentation** where we change the images a bit by rotating them, squashing them, etc.\n",
        "\n",
        "We can implement this using the ImageDataGenerator Class\n",
        "\n",
        "\n",
        "\n",
        "```\n",
        "train_datagen = ImageDataGenerator(\n",
        "      rescale=1./255,\n",
        "      rotation_range=40,\n",
        "      width_shift_range=0.2,\n",
        "      height_shift_range=0.2,\n",
        "      shear_range=0.2,\n",
        "      zoom_range=0.2,\n",
        "      horizontal_flip=True,\n",
        "      fill_mode='nearest')\n",
        "```\n",
        "\n",
        "Some options that are available:\n",
        "\n",
        "\n",
        "\n",
        "*   rotation_range is a value in degrees (0–180), a range within which to randomly rotate pictures.\n",
        "*   width_shift and height_shift are ranges (as a fraction of total width or height) within which to randomly     translate pictures vertically or horizontally\n",
        "*   shear_range is for randomly applying shearing transformations\n",
        "*   zoom_range is for randomly zooming inside pictures\n",
        "*   horizontal_flip is for randomly flipping half of the images horizontally. This is relevant when there are no assumptions of horizontal assymmetry (e.g. real-world pictures)\n",
        "*   fill_mode is the strategy used for filling in newly created pixels, which can appear after a rotation or a width/height shift\n",
        "\n",
        "\n",
        "\n"
      ]
    },
    {
      "cell_type": "markdown",
      "metadata": {
        "colab_type": "text",
        "id": "mxLdqu1R26Ym"
      },
      "source": [
        "**Here's the code with added Image Augmentation.**"
      ]
    },
    {
      "cell_type": "code",
      "execution_count": null,
      "metadata": {
        "colab": {
          "base_uri": "https://localhost:8080/",
          "height": 1000
        },
        "colab_type": "code",
        "id": "wpWxew5t3Elv",
        "outputId": "0cbb21d0-0c71-47b4-a6ad-20adf4bf7357"
      },
      "outputs": [
        {
          "name": "stdout",
          "output_type": "stream",
          "text": [
            "--2019-09-11 20:50:51--  https://storage.googleapis.com/mledu-datasets/cats_and_dogs_filtered.zip\n",
            "Resolving storage.googleapis.com (storage.googleapis.com)... 108.177.127.128, 2a00:1450:4013:c07::80\n",
            "Connecting to storage.googleapis.com (storage.googleapis.com)|108.177.127.128|:443... connected.\n",
            "HTTP request sent, awaiting response... 200 OK\n",
            "Length: 68606236 (65M) [application/zip]\n",
            "Saving to: ‘/tmp/cats_and_dogs_filtered.zip’\n",
            "\n",
            "/tmp/cats_and_dogs_ 100%[===================>]  65.43M   121MB/s    in 0.5s    \n",
            "\n",
            "2019-09-11 20:50:52 (121 MB/s) - ‘/tmp/cats_and_dogs_filtered.zip’ saved [68606236/68606236]\n",
            "\n",
            "Found 2000 images belonging to 2 classes.\n",
            "Found 1000 images belonging to 2 classes.\n",
            "Epoch 1/100\n",
            "100/100 - 16s - loss: 0.6873 - acc: 0.5460 - val_loss: 0.6684 - val_acc: 0.5910\n",
            "Epoch 2/100\n",
            "100/100 - 14s - loss: 0.6643 - acc: 0.5710 - val_loss: 0.6549 - val_acc: 0.5960\n",
            "Epoch 3/100\n",
            "100/100 - 14s - loss: 0.6508 - acc: 0.6045 - val_loss: 0.6147 - val_acc: 0.6680\n",
            "Epoch 4/100\n",
            "100/100 - 14s - loss: 0.6397 - acc: 0.6290 - val_loss: 0.6042 - val_acc: 0.6730\n",
            "Epoch 5/100\n",
            "100/100 - 14s - loss: 0.6285 - acc: 0.6210 - val_loss: 0.5859 - val_acc: 0.6850\n",
            "Epoch 6/100\n",
            "100/100 - 14s - loss: 0.6088 - acc: 0.6705 - val_loss: 0.5702 - val_acc: 0.7090\n",
            "Epoch 7/100\n",
            "100/100 - 14s - loss: 0.6083 - acc: 0.6725 - val_loss: 0.5601 - val_acc: 0.7130\n",
            "Epoch 8/100\n",
            "100/100 - 14s - loss: 0.5957 - acc: 0.6805 - val_loss: 0.5593 - val_acc: 0.7010\n",
            "Epoch 9/100\n",
            "100/100 - 14s - loss: 0.5963 - acc: 0.6845 - val_loss: 0.5498 - val_acc: 0.7190\n",
            "Epoch 10/100\n",
            "100/100 - 14s - loss: 0.5737 - acc: 0.6945 - val_loss: 0.5443 - val_acc: 0.7090\n",
            "Epoch 11/100\n",
            "100/100 - 14s - loss: 0.5837 - acc: 0.6915 - val_loss: 0.5404 - val_acc: 0.7110\n",
            "Epoch 12/100\n",
            "100/100 - 14s - loss: 0.5676 - acc: 0.6915 - val_loss: 0.5297 - val_acc: 0.7230\n",
            "Epoch 13/100\n",
            "100/100 - 14s - loss: 0.5601 - acc: 0.7085 - val_loss: 0.5473 - val_acc: 0.7100\n",
            "Epoch 14/100\n",
            "100/100 - 14s - loss: 0.5613 - acc: 0.7125 - val_loss: 0.5310 - val_acc: 0.7280\n",
            "Epoch 15/100\n",
            "100/100 - 14s - loss: 0.5440 - acc: 0.7280 - val_loss: 0.5260 - val_acc: 0.7290\n",
            "Epoch 16/100\n",
            "100/100 - 14s - loss: 0.5646 - acc: 0.7060 - val_loss: 0.5461 - val_acc: 0.7010\n",
            "Epoch 17/100\n",
            "100/100 - 14s - loss: 0.5474 - acc: 0.7255 - val_loss: 0.5101 - val_acc: 0.7410\n",
            "Epoch 18/100\n",
            "100/100 - 14s - loss: 0.5386 - acc: 0.7195 - val_loss: 0.5231 - val_acc: 0.7310\n",
            "Epoch 19/100\n",
            "100/100 - 14s - loss: 0.5347 - acc: 0.7270 - val_loss: 0.5458 - val_acc: 0.7150\n",
            "Epoch 20/100\n",
            "100/100 - 14s - loss: 0.5292 - acc: 0.7290 - val_loss: 0.5069 - val_acc: 0.7390\n",
            "Epoch 21/100\n",
            "100/100 - 14s - loss: 0.5288 - acc: 0.7335 - val_loss: 0.4945 - val_acc: 0.7620\n",
            "Epoch 22/100\n",
            "100/100 - 14s - loss: 0.5317 - acc: 0.7270 - val_loss: 0.4987 - val_acc: 0.7460\n",
            "Epoch 23/100\n",
            "100/100 - 14s - loss: 0.5212 - acc: 0.7425 - val_loss: 0.4845 - val_acc: 0.7620\n",
            "Epoch 24/100\n",
            "100/100 - 14s - loss: 0.5175 - acc: 0.7355 - val_loss: 0.5024 - val_acc: 0.7400\n",
            "Epoch 25/100\n",
            "100/100 - 14s - loss: 0.5150 - acc: 0.7465 - val_loss: 0.5377 - val_acc: 0.7240\n",
            "Epoch 26/100\n",
            "100/100 - 14s - loss: 0.5105 - acc: 0.7355 - val_loss: 0.5195 - val_acc: 0.7390\n",
            "Epoch 27/100\n",
            "100/100 - 14s - loss: 0.5025 - acc: 0.7615 - val_loss: 0.4894 - val_acc: 0.7600\n",
            "Epoch 28/100\n",
            "100/100 - 14s - loss: 0.4983 - acc: 0.7625 - val_loss: 0.4722 - val_acc: 0.7720\n",
            "Epoch 29/100\n",
            "100/100 - 14s - loss: 0.4941 - acc: 0.7650 - val_loss: 0.4848 - val_acc: 0.7580\n",
            "Epoch 30/100\n",
            "100/100 - 14s - loss: 0.4989 - acc: 0.7500 - val_loss: 0.4725 - val_acc: 0.7670\n",
            "Epoch 31/100\n",
            "100/100 - 15s - loss: 0.4933 - acc: 0.7535 - val_loss: 0.4927 - val_acc: 0.7510\n",
            "Epoch 32/100\n",
            "100/100 - 14s - loss: 0.4748 - acc: 0.7685 - val_loss: 0.4676 - val_acc: 0.7880\n",
            "Epoch 33/100\n",
            "100/100 - 14s - loss: 0.4803 - acc: 0.7795 - val_loss: 0.4521 - val_acc: 0.7830\n",
            "Epoch 34/100\n",
            "100/100 - 14s - loss: 0.4723 - acc: 0.7735 - val_loss: 0.4818 - val_acc: 0.7710\n",
            "Epoch 35/100\n",
            "100/100 - 14s - loss: 0.4732 - acc: 0.7710 - val_loss: 0.4577 - val_acc: 0.7760\n",
            "Epoch 36/100\n",
            "100/100 - 14s - loss: 0.4666 - acc: 0.7735 - val_loss: 0.4607 - val_acc: 0.7790\n",
            "Epoch 37/100\n",
            "100/100 - 14s - loss: 0.4774 - acc: 0.7800 - val_loss: 0.4662 - val_acc: 0.7740\n",
            "Epoch 38/100\n",
            "100/100 - 14s - loss: 0.4780 - acc: 0.7725 - val_loss: 0.5009 - val_acc: 0.7630\n",
            "Epoch 39/100\n",
            "100/100 - 14s - loss: 0.4684 - acc: 0.7770 - val_loss: 0.4511 - val_acc: 0.7790\n",
            "Epoch 40/100\n",
            "100/100 - 14s - loss: 0.4431 - acc: 0.8005 - val_loss: 0.4630 - val_acc: 0.7790\n",
            "Epoch 41/100\n",
            "100/100 - 14s - loss: 0.4749 - acc: 0.7725 - val_loss: 0.4599 - val_acc: 0.7920\n",
            "Epoch 42/100\n",
            "100/100 - 14s - loss: 0.4574 - acc: 0.7830 - val_loss: 0.5458 - val_acc: 0.7410\n",
            "Epoch 43/100\n",
            "100/100 - 14s - loss: 0.4659 - acc: 0.7695 - val_loss: 0.4926 - val_acc: 0.7500\n",
            "Epoch 44/100\n",
            "100/100 - 14s - loss: 0.4561 - acc: 0.7810 - val_loss: 0.4388 - val_acc: 0.7870\n",
            "Epoch 45/100\n",
            "100/100 - 14s - loss: 0.4552 - acc: 0.7860 - val_loss: 0.4507 - val_acc: 0.7850\n",
            "Epoch 46/100\n",
            "100/100 - 14s - loss: 0.4300 - acc: 0.8005 - val_loss: 0.4780 - val_acc: 0.7810\n",
            "Epoch 47/100\n",
            "100/100 - 14s - loss: 0.4352 - acc: 0.7960 - val_loss: 0.4769 - val_acc: 0.7740\n",
            "Epoch 48/100\n",
            "100/100 - 14s - loss: 0.4361 - acc: 0.8000 - val_loss: 0.4337 - val_acc: 0.7920\n",
            "Epoch 49/100\n",
            "100/100 - 14s - loss: 0.4316 - acc: 0.8035 - val_loss: 0.4643 - val_acc: 0.7820\n",
            "Epoch 50/100\n",
            "100/100 - 14s - loss: 0.4612 - acc: 0.7915 - val_loss: 0.4192 - val_acc: 0.8110\n",
            "Epoch 51/100\n",
            "100/100 - 14s - loss: 0.4228 - acc: 0.8085 - val_loss: 0.4250 - val_acc: 0.8020\n",
            "Epoch 52/100\n",
            "100/100 - 14s - loss: 0.4401 - acc: 0.7940 - val_loss: 0.4315 - val_acc: 0.7870\n",
            "Epoch 53/100\n",
            "100/100 - 15s - loss: 0.4323 - acc: 0.8005 - val_loss: 0.5474 - val_acc: 0.7380\n",
            "Epoch 54/100\n",
            "100/100 - 14s - loss: 0.4396 - acc: 0.8055 - val_loss: 0.5138 - val_acc: 0.7550\n",
            "Epoch 55/100\n",
            "100/100 - 14s - loss: 0.4282 - acc: 0.8025 - val_loss: 0.4359 - val_acc: 0.7980\n",
            "Epoch 56/100\n",
            "100/100 - 14s - loss: 0.4231 - acc: 0.8030 - val_loss: 0.4887 - val_acc: 0.7690\n",
            "Epoch 57/100\n",
            "100/100 - 14s - loss: 0.4182 - acc: 0.8090 - val_loss: 0.4303 - val_acc: 0.7970\n",
            "Epoch 58/100\n",
            "100/100 - 14s - loss: 0.4174 - acc: 0.8060 - val_loss: 0.4201 - val_acc: 0.7970\n",
            "Epoch 59/100\n",
            "100/100 - 14s - loss: 0.4271 - acc: 0.7965 - val_loss: 0.4048 - val_acc: 0.8020\n",
            "Epoch 60/100\n",
            "100/100 - 14s - loss: 0.4050 - acc: 0.8090 - val_loss: 0.4276 - val_acc: 0.7930\n",
            "Epoch 61/100\n",
            "100/100 - 14s - loss: 0.4116 - acc: 0.8110 - val_loss: 0.4190 - val_acc: 0.8050\n",
            "Epoch 62/100\n",
            "100/100 - 14s - loss: 0.4113 - acc: 0.8125 - val_loss: 0.4046 - val_acc: 0.8160\n",
            "Epoch 63/100\n",
            "100/100 - 14s - loss: 0.4220 - acc: 0.8005 - val_loss: 0.4475 - val_acc: 0.7960\n",
            "Epoch 64/100\n",
            "100/100 - 14s - loss: 0.4076 - acc: 0.8175 - val_loss: 0.4116 - val_acc: 0.8090\n",
            "Epoch 65/100\n",
            "100/100 - 14s - loss: 0.4112 - acc: 0.8055 - val_loss: 0.4255 - val_acc: 0.7940\n",
            "Epoch 66/100\n",
            "100/100 - 14s - loss: 0.4261 - acc: 0.8030 - val_loss: 0.5718 - val_acc: 0.7360\n",
            "Epoch 67/100\n",
            "100/100 - 14s - loss: 0.4023 - acc: 0.8090 - val_loss: 0.4566 - val_acc: 0.7870\n",
            "Epoch 68/100\n",
            "100/100 - 14s - loss: 0.4008 - acc: 0.8160 - val_loss: 0.4042 - val_acc: 0.8030\n",
            "Epoch 69/100\n",
            "100/100 - 14s - loss: 0.4071 - acc: 0.8175 - val_loss: 0.4279 - val_acc: 0.8000\n",
            "Epoch 70/100\n",
            "100/100 - 14s - loss: 0.3902 - acc: 0.8265 - val_loss: 0.4694 - val_acc: 0.7920\n",
            "Epoch 71/100\n",
            "100/100 - 14s - loss: 0.4054 - acc: 0.8240 - val_loss: 0.4047 - val_acc: 0.8130\n",
            "Epoch 72/100\n",
            "100/100 - 14s - loss: 0.3895 - acc: 0.8245 - val_loss: 0.5137 - val_acc: 0.7830\n",
            "Epoch 73/100\n",
            "100/100 - 14s - loss: 0.3944 - acc: 0.8175 - val_loss: 0.4693 - val_acc: 0.7870\n",
            "Epoch 74/100\n",
            "100/100 - 14s - loss: 0.3939 - acc: 0.8185 - val_loss: 0.3939 - val_acc: 0.8110\n",
            "Epoch 75/100\n",
            "100/100 - 14s - loss: 0.3829 - acc: 0.8320 - val_loss: 0.4405 - val_acc: 0.7990\n",
            "Epoch 76/100\n",
            "100/100 - 14s - loss: 0.3954 - acc: 0.8090 - val_loss: 0.3910 - val_acc: 0.8100\n",
            "Epoch 77/100\n",
            "100/100 - 14s - loss: 0.3923 - acc: 0.8230 - val_loss: 0.3905 - val_acc: 0.8220\n",
            "Epoch 78/100\n",
            "100/100 - 14s - loss: 0.3873 - acc: 0.8155 - val_loss: 0.4955 - val_acc: 0.7760\n",
            "Epoch 79/100\n",
            "100/100 - 14s - loss: 0.3779 - acc: 0.8305 - val_loss: 0.4273 - val_acc: 0.7960\n",
            "Epoch 80/100\n",
            "100/100 - 14s - loss: 0.3781 - acc: 0.8285 - val_loss: 0.4954 - val_acc: 0.7620\n",
            "Epoch 81/100\n",
            "100/100 - 14s - loss: 0.3797 - acc: 0.8245 - val_loss: 0.4237 - val_acc: 0.8110\n",
            "Epoch 82/100\n",
            "100/100 - 14s - loss: 0.3639 - acc: 0.8400 - val_loss: 0.4065 - val_acc: 0.8150\n",
            "Epoch 83/100\n",
            "100/100 - 14s - loss: 0.3555 - acc: 0.8360 - val_loss: 0.4177 - val_acc: 0.7940\n",
            "Epoch 84/100\n",
            "100/100 - 14s - loss: 0.3643 - acc: 0.8425 - val_loss: 0.4080 - val_acc: 0.8040\n",
            "Epoch 85/100\n",
            "100/100 - 14s - loss: 0.3815 - acc: 0.8340 - val_loss: 0.4349 - val_acc: 0.7970\n",
            "Epoch 86/100\n",
            "100/100 - 14s - loss: 0.3656 - acc: 0.8370 - val_loss: 0.4390 - val_acc: 0.8030\n",
            "Epoch 87/100\n",
            "100/100 - 14s - loss: 0.3581 - acc: 0.8325 - val_loss: 0.3854 - val_acc: 0.8200\n",
            "Epoch 88/100\n",
            "100/100 - 14s - loss: 0.3540 - acc: 0.8365 - val_loss: 0.4195 - val_acc: 0.8160\n",
            "Epoch 89/100\n",
            "100/100 - 14s - loss: 0.3566 - acc: 0.8455 - val_loss: 0.4267 - val_acc: 0.8150\n",
            "Epoch 90/100\n",
            "100/100 - 14s - loss: 0.3437 - acc: 0.8435 - val_loss: 0.5047 - val_acc: 0.7930\n",
            "Epoch 91/100\n",
            "100/100 - 14s - loss: 0.3468 - acc: 0.8450 - val_loss: 0.4014 - val_acc: 0.8150\n",
            "Epoch 92/100\n",
            "100/100 - 14s - loss: 0.3529 - acc: 0.8495 - val_loss: 0.4594 - val_acc: 0.8060\n",
            "Epoch 93/100\n",
            "100/100 - 14s - loss: 0.3496 - acc: 0.8440 - val_loss: 0.4280 - val_acc: 0.7960\n",
            "Epoch 94/100\n",
            "100/100 - 14s - loss: 0.3310 - acc: 0.8480 - val_loss: 0.4190 - val_acc: 0.8080\n",
            "Epoch 95/100\n",
            "100/100 - 14s - loss: 0.3433 - acc: 0.8460 - val_loss: 0.4050 - val_acc: 0.8160\n",
            "Epoch 96/100\n",
            "100/100 - 15s - loss: 0.3475 - acc: 0.8440 - val_loss: 0.3955 - val_acc: 0.8190\n",
            "Epoch 97/100\n",
            "100/100 - 14s - loss: 0.3353 - acc: 0.8450 - val_loss: 0.4647 - val_acc: 0.7990\n",
            "Epoch 98/100\n",
            "100/100 - 14s - loss: 0.3402 - acc: 0.8535 - val_loss: 0.4355 - val_acc: 0.8040\n",
            "Epoch 99/100\n",
            "100/100 - 14s - loss: 0.3313 - acc: 0.8480 - val_loss: 0.4094 - val_acc: 0.8060\n",
            "Epoch 100/100\n",
            "100/100 - 14s - loss: 0.3457 - acc: 0.8520 - val_loss: 0.4088 - val_acc: 0.8050\n"
          ]
        }
      ],
      "source": [
        "!wget --no-check-certificate \\\n",
        "    https://storage.googleapis.com/mledu-datasets/cats_and_dogs_filtered.zip \\\n",
        "    -O /tmp/cats_and_dogs_filtered.zip\n",
        "  \n",
        "import os\n",
        "import zipfile\n",
        "import tensorflow as tf\n",
        "from tensorflow.keras.optimizers import RMSprop\n",
        "from tensorflow.keras.preprocessing.image import ImageDataGenerator\n",
        "\n",
        "local_zip = '/tmp/cats_and_dogs_filtered.zip'\n",
        "zip_ref = zipfile.ZipFile(local_zip, 'r')\n",
        "zip_ref.extractall('/tmp')\n",
        "zip_ref.close()\n",
        "\n",
        "base_dir = '/tmp/cats_and_dogs_filtered'\n",
        "train_dir = os.path.join(base_dir, 'train')\n",
        "validation_dir = os.path.join(base_dir, 'validation')\n",
        "\n",
        "# Directory with our training cat pictures\n",
        "train_cats_dir = os.path.join(train_dir, 'cats')\n",
        "\n",
        "# Directory with our training dog pictures\n",
        "train_dogs_dir = os.path.join(train_dir, 'dogs')\n",
        "\n",
        "# Directory with our validation cat pictures\n",
        "validation_cats_dir = os.path.join(validation_dir, 'cats')\n",
        "\n",
        "# Directory with our validation dog pictures\n",
        "validation_dogs_dir = os.path.join(validation_dir, 'dogs')\n",
        "\n",
        "model = tf.keras.models.Sequential([\n",
        "    tf.keras.layers.Conv2D(32, (3,3), activation='relu', input_shape=(150, 150, 3)),\n",
        "    tf.keras.layers.MaxPooling2D(2, 2),\n",
        "    tf.keras.layers.Conv2D(64, (3,3), activation='relu'),\n",
        "    tf.keras.layers.MaxPooling2D(2,2),\n",
        "    tf.keras.layers.Conv2D(128, (3,3), activation='relu'),\n",
        "    tf.keras.layers.MaxPooling2D(2,2),\n",
        "    tf.keras.layers.Conv2D(128, (3,3), activation='relu'),\n",
        "    tf.keras.layers.MaxPooling2D(2,2),\n",
        "    tf.keras.layers.Flatten(),\n",
        "    tf.keras.layers.Dense(512, activation='relu'),\n",
        "    tf.keras.layers.Dense(1, activation='sigmoid')\n",
        "])\n",
        "\n",
        "model.compile(loss='binary_crossentropy',\n",
        "              optimizer=RMSprop(lr=1e-4),\n",
        "              metrics=['acc'])\n",
        "\n",
        "# This code has changed. Now instead of the ImageGenerator just rescaling\n",
        "# the image, we also rotate and do other operations\n",
        "# Updated to do image augmentation\n",
        "train_datagen = ImageDataGenerator(\n",
        "      rescale=1./255,\n",
        "      rotation_range=40,\n",
        "      width_shift_range=0.2,\n",
        "      height_shift_range=0.2,\n",
        "      shear_range=0.2,\n",
        "      zoom_range=0.2,\n",
        "      horizontal_flip=True,\n",
        "      fill_mode='nearest')\n",
        "\n",
        "test_datagen = ImageDataGenerator(rescale=1./255)\n",
        "\n",
        "# Flow training images in batches of 20 using train_datagen generator\n",
        "train_generator = train_datagen.flow_from_directory(\n",
        "        train_dir,  # This is the source directory for training images\n",
        "        target_size=(150, 150),  # All images will be resized to 150x150\n",
        "        batch_size=20,\n",
        "        # Since we use binary_crossentropy loss, we need binary labels\n",
        "        class_mode='binary')\n",
        "\n",
        "# Flow validation images in batches of 20 using test_datagen generator\n",
        "validation_generator = test_datagen.flow_from_directory(\n",
        "        validation_dir,\n",
        "        target_size=(150, 150),\n",
        "        batch_size=20,\n",
        "        class_mode='binary')\n",
        "\n",
        "history = model.fit_generator(\n",
        "      train_generator,\n",
        "      steps_per_epoch=100,  # 2000 images = batch_size * steps\n",
        "      epochs=100,\n",
        "      validation_data=validation_generator,\n",
        "      validation_steps=50,  # 1000 images = batch_size * steps\n",
        "      verbose=2)"
      ]
    },
    {
      "cell_type": "code",
      "execution_count": null,
      "metadata": {
        "colab": {
          "base_uri": "https://localhost:8080/",
          "height": 545
        },
        "colab_type": "code",
        "id": "yfNfPjpo3Y1-",
        "outputId": "20cda5bd-fb16-4476-b394-3999e517a945"
      },
      "outputs": [
        {
          "data": {
            "image/png": "[encoded data removed]",
            "text/plain": [
              "<Figure size 432x288 with 1 Axes>"
            ]
          },
          "metadata": {
            "tags": []
          },
          "output_type": "display_data"
        },
        {
          "data": {
            "image/png": "[encoded data removed]",
            "text/plain": [
              "<Figure size 432x288 with 1 Axes>"
            ]
          },
          "metadata": {
            "tags": []
          },
          "output_type": "display_data"
        }
      ],
      "source": [
        "import matplotlib.pyplot as plt\n",
        "acc = history.history['acc']\n",
        "val_acc = history.history['val_acc']\n",
        "loss = history.history['loss']\n",
        "val_loss = history.history['val_loss']\n",
        "\n",
        "epochs = range(len(acc))\n",
        "\n",
        "plt.plot(epochs, acc, 'bo', label='Training accuracy')\n",
        "plt.plot(epochs, val_acc, 'b', label='Validation accuracy')\n",
        "plt.title('Training and validation accuracy')\n",
        "\n",
        "plt.figure()\n",
        "\n",
        "plt.plot(epochs, loss, 'bo', label='Training Loss')\n",
        "plt.plot(epochs, val_loss, 'b', label='Validation Loss')\n",
        "plt.title('Training and validation loss')\n",
        "plt.legend()\n",
        "\n",
        "plt.show()"
      ]
    },
    {
      "cell_type": "markdown",
      "metadata": {
        "colab_type": "text",
        "id": "x-40ExjC3obd"
      },
      "source": [
        "As we can see, the accuracy and loss metrics have improved, but we can do better.\n",
        "Let us try implementing **Droput** which would help us with overfitting."
      ]
    },
    {
      "cell_type": "code",
      "execution_count": null,
      "metadata": {
        "colab": {
          "base_uri": "https://localhost:8080/",
          "height": 1000
        },
        "colab_type": "code",
        "id": "2mQ3rtp44lns",
        "outputId": "876e7c2b-8c91-42f2-b32e-21f4019226ad"
      },
      "outputs": [
        {
          "name": "stdout",
          "output_type": "stream",
          "text": [
            "--2019-09-11 21:14:50--  https://storage.googleapis.com/mledu-datasets/cats_and_dogs_filtered.zip\n",
            "Resolving storage.googleapis.com (storage.googleapis.com)... 173.194.69.128, 2a00:1450:4013:c07::80\n",
            "Connecting to storage.googleapis.com (storage.googleapis.com)|173.194.69.128|:443... connected.\n",
            "HTTP request sent, awaiting response... 200 OK\n",
            "Length: 68606236 (65M) [application/zip]\n",
            "Saving to: ‘/tmp/cats_and_dogs_filtered.zip’\n",
            "\n",
            "/tmp/cats_and_dogs_ 100%[===================>]  65.43M  49.4MB/s    in 1.3s    \n",
            "\n",
            "2019-09-11 21:14:52 (49.4 MB/s) - ‘/tmp/cats_and_dogs_filtered.zip’ saved [68606236/68606236]\n",
            "\n",
            "Found 2000 images belonging to 2 classes.\n",
            "Found 1000 images belonging to 2 classes.\n",
            "Epoch 1/100\n",
            "100/100 - 16s - loss: 0.6949 - acc: 0.5290 - val_loss: 0.6921 - val_acc: 0.5000\n",
            "Epoch 2/100\n",
            "100/100 - 14s - loss: 0.6897 - acc: 0.5320 - val_loss: 0.6649 - val_acc: 0.6390\n",
            "Epoch 3/100\n",
            "100/100 - 14s - loss: 0.6723 - acc: 0.5775 - val_loss: 0.6478 - val_acc: 0.6010\n",
            "Epoch 4/100\n",
            "100/100 - 14s - loss: 0.6612 - acc: 0.5960 - val_loss: 0.6934 - val_acc: 0.5260\n",
            "Epoch 5/100\n",
            "100/100 - 14s - loss: 0.6546 - acc: 0.6090 - val_loss: 0.6840 - val_acc: 0.5610\n",
            "Epoch 6/100\n",
            "100/100 - 14s - loss: 0.6377 - acc: 0.6200 - val_loss: 0.6004 - val_acc: 0.6690\n",
            "Epoch 7/100\n",
            "100/100 - 14s - loss: 0.6273 - acc: 0.6490 - val_loss: 0.5954 - val_acc: 0.6730\n",
            "Epoch 8/100\n",
            "100/100 - 14s - loss: 0.6117 - acc: 0.6580 - val_loss: 0.5650 - val_acc: 0.6940\n",
            "Epoch 9/100\n",
            "100/100 - 14s - loss: 0.6025 - acc: 0.6645 - val_loss: 0.5619 - val_acc: 0.6870\n",
            "Epoch 10/100\n",
            "100/100 - 14s - loss: 0.5948 - acc: 0.6770 - val_loss: 0.5614 - val_acc: 0.6970\n",
            "Epoch 11/100\n",
            "100/100 - 14s - loss: 0.5884 - acc: 0.6845 - val_loss: 0.5670 - val_acc: 0.6980\n",
            "Epoch 12/100\n",
            "100/100 - 14s - loss: 0.5892 - acc: 0.6755 - val_loss: 0.5654 - val_acc: 0.7050\n",
            "Epoch 13/100\n",
            "100/100 - 14s - loss: 0.5776 - acc: 0.6940 - val_loss: 0.5353 - val_acc: 0.7130\n",
            "Epoch 14/100\n",
            "100/100 - 14s - loss: 0.5751 - acc: 0.6955 - val_loss: 0.6494 - val_acc: 0.6370\n",
            "Epoch 15/100\n",
            "100/100 - 14s - loss: 0.5723 - acc: 0.7030 - val_loss: 0.5325 - val_acc: 0.7230\n",
            "Epoch 16/100\n",
            "100/100 - 14s - loss: 0.5678 - acc: 0.7135 - val_loss: 0.5193 - val_acc: 0.7390\n",
            "Epoch 17/100\n",
            "100/100 - 15s - loss: 0.5664 - acc: 0.7140 - val_loss: 0.5494 - val_acc: 0.7080\n",
            "Epoch 18/100\n",
            "100/100 - 14s - loss: 0.5583 - acc: 0.7150 - val_loss: 0.5319 - val_acc: 0.7300\n",
            "Epoch 19/100\n",
            "100/100 - 14s - loss: 0.5600 - acc: 0.7105 - val_loss: 0.5333 - val_acc: 0.7160\n",
            "Epoch 20/100\n",
            "100/100 - 14s - loss: 0.5567 - acc: 0.7135 - val_loss: 0.5256 - val_acc: 0.7290\n",
            "Epoch 21/100\n",
            "100/100 - 14s - loss: 0.5578 - acc: 0.6960 - val_loss: 0.5127 - val_acc: 0.7340\n",
            "Epoch 22/100\n",
            "100/100 - 14s - loss: 0.5385 - acc: 0.7230 - val_loss: 0.5249 - val_acc: 0.7440\n",
            "Epoch 23/100\n",
            "100/100 - 14s - loss: 0.5417 - acc: 0.7265 - val_loss: 0.6039 - val_acc: 0.6870\n",
            "Epoch 24/100\n",
            "100/100 - 14s - loss: 0.5450 - acc: 0.7220 - val_loss: 0.5177 - val_acc: 0.7270\n",
            "Epoch 25/100\n",
            "100/100 - 14s - loss: 0.5258 - acc: 0.7390 - val_loss: 0.4907 - val_acc: 0.7550\n",
            "Epoch 26/100\n",
            "100/100 - 14s - loss: 0.5349 - acc: 0.7275 - val_loss: 0.5334 - val_acc: 0.7130\n",
            "Epoch 27/100\n",
            "100/100 - 14s - loss: 0.5245 - acc: 0.7365 - val_loss: 0.5135 - val_acc: 0.7400\n",
            "Epoch 28/100\n",
            "100/100 - 14s - loss: 0.5122 - acc: 0.7475 - val_loss: 0.5470 - val_acc: 0.7430\n",
            "Epoch 29/100\n",
            "100/100 - 14s - loss: 0.5203 - acc: 0.7445 - val_loss: 0.5060 - val_acc: 0.7540\n",
            "Epoch 30/100\n",
            "100/100 - 14s - loss: 0.5211 - acc: 0.7355 - val_loss: 0.5378 - val_acc: 0.7310\n",
            "Epoch 31/100\n",
            "100/100 - 14s - loss: 0.5135 - acc: 0.7475 - val_loss: 0.4744 - val_acc: 0.7690\n",
            "Epoch 32/100\n",
            "100/100 - 14s - loss: 0.5233 - acc: 0.7475 - val_loss: 0.4826 - val_acc: 0.7530\n",
            "Epoch 33/100\n",
            "100/100 - 14s - loss: 0.5067 - acc: 0.7495 - val_loss: 0.4993 - val_acc: 0.7430\n",
            "Epoch 34/100\n",
            "100/100 - 14s - loss: 0.4975 - acc: 0.7520 - val_loss: 0.5021 - val_acc: 0.7560\n",
            "Epoch 35/100\n",
            "100/100 - 14s - loss: 0.4914 - acc: 0.7530 - val_loss: 0.5818 - val_acc: 0.7120\n",
            "Epoch 36/100\n",
            "100/100 - 14s - loss: 0.4866 - acc: 0.7665 - val_loss: 0.4954 - val_acc: 0.7690\n",
            "Epoch 37/100\n",
            "100/100 - 14s - loss: 0.4917 - acc: 0.7525 - val_loss: 0.4772 - val_acc: 0.7710\n",
            "Epoch 38/100\n",
            "100/100 - 14s - loss: 0.4981 - acc: 0.7565 - val_loss: 0.4663 - val_acc: 0.7720\n",
            "Epoch 39/100\n",
            "100/100 - 15s - loss: 0.4770 - acc: 0.7700 - val_loss: 0.5840 - val_acc: 0.7050\n",
            "Epoch 40/100\n",
            "100/100 - 14s - loss: 0.5127 - acc: 0.7405 - val_loss: 0.5196 - val_acc: 0.7610\n",
            "Epoch 41/100\n",
            "100/100 - 14s - loss: 0.4810 - acc: 0.7640 - val_loss: 0.5118 - val_acc: 0.7540\n",
            "Epoch 42/100\n",
            "100/100 - 14s - loss: 0.4846 - acc: 0.7655 - val_loss: 0.4743 - val_acc: 0.7740\n",
            "Epoch 43/100\n",
            "100/100 - 14s - loss: 0.4791 - acc: 0.7650 - val_loss: 0.4660 - val_acc: 0.7650\n",
            "Epoch 44/100\n",
            "100/100 - 14s - loss: 0.4786 - acc: 0.7660 - val_loss: 0.5328 - val_acc: 0.7370\n",
            "Epoch 45/100\n",
            "100/100 - 14s - loss: 0.4747 - acc: 0.7720 - val_loss: 0.4713 - val_acc: 0.7690\n",
            "Epoch 46/100\n",
            "100/100 - 14s - loss: 0.4704 - acc: 0.7740 - val_loss: 0.4573 - val_acc: 0.7800\n",
            "Epoch 47/100\n",
            "100/100 - 14s - loss: 0.4694 - acc: 0.7725 - val_loss: 0.4520 - val_acc: 0.7830\n",
            "Epoch 48/100\n",
            "100/100 - 14s - loss: 0.4621 - acc: 0.7865 - val_loss: 0.4326 - val_acc: 0.7890\n",
            "Epoch 49/100\n",
            "100/100 - 14s - loss: 0.4780 - acc: 0.7735 - val_loss: 0.4429 - val_acc: 0.7840\n",
            "Epoch 50/100\n",
            "100/100 - 14s - loss: 0.4666 - acc: 0.7825 - val_loss: 0.5563 - val_acc: 0.7230\n",
            "Epoch 51/100\n",
            "100/100 - 14s - loss: 0.4609 - acc: 0.7845 - val_loss: 0.4718 - val_acc: 0.7770\n",
            "Epoch 52/100\n",
            "100/100 - 14s - loss: 0.4418 - acc: 0.7895 - val_loss: 0.5125 - val_acc: 0.7590\n",
            "Epoch 53/100\n",
            "100/100 - 14s - loss: 0.4453 - acc: 0.7940 - val_loss: 0.4741 - val_acc: 0.7820\n",
            "Epoch 54/100\n",
            "100/100 - 14s - loss: 0.4596 - acc: 0.7800 - val_loss: 0.4521 - val_acc: 0.7800\n",
            "Epoch 55/100\n",
            "100/100 - 14s - loss: 0.4698 - acc: 0.7805 - val_loss: 0.4317 - val_acc: 0.8050\n",
            "Epoch 56/100\n",
            "100/100 - 14s - loss: 0.4610 - acc: 0.7790 - val_loss: 0.5030 - val_acc: 0.7510\n",
            "Epoch 57/100\n",
            "100/100 - 14s - loss: 0.4594 - acc: 0.7840 - val_loss: 0.6050 - val_acc: 0.7260\n",
            "Epoch 58/100\n",
            "100/100 - 14s - loss: 0.4497 - acc: 0.7905 - val_loss: 0.4838 - val_acc: 0.7650\n",
            "Epoch 59/100\n",
            "100/100 - 14s - loss: 0.4407 - acc: 0.7905 - val_loss: 0.4380 - val_acc: 0.7910\n",
            "Epoch 60/100\n",
            "100/100 - 14s - loss: 0.4566 - acc: 0.7800 - val_loss: 0.4211 - val_acc: 0.8050\n",
            "Epoch 61/100\n",
            "100/100 - 15s - loss: 0.4477 - acc: 0.7920 - val_loss: 0.4287 - val_acc: 0.8080\n",
            "Epoch 62/100\n",
            "100/100 - 14s - loss: 0.4455 - acc: 0.7965 - val_loss: 0.5190 - val_acc: 0.7680\n",
            "Epoch 63/100\n",
            "100/100 - 14s - loss: 0.4450 - acc: 0.7885 - val_loss: 0.4553 - val_acc: 0.8070\n",
            "Epoch 64/100\n",
            "100/100 - 14s - loss: 0.4429 - acc: 0.7940 - val_loss: 0.4302 - val_acc: 0.7920\n",
            "Epoch 65/100\n",
            "100/100 - 14s - loss: 0.4308 - acc: 0.8010 - val_loss: 0.4926 - val_acc: 0.7910\n",
            "Epoch 66/100\n",
            "100/100 - 14s - loss: 0.4179 - acc: 0.8010 - val_loss: 0.4534 - val_acc: 0.8020\n",
            "Epoch 67/100\n",
            "100/100 - 14s - loss: 0.4489 - acc: 0.7960 - val_loss: 0.4243 - val_acc: 0.8030\n",
            "Epoch 68/100\n",
            "100/100 - 14s - loss: 0.4362 - acc: 0.7890 - val_loss: 0.4889 - val_acc: 0.7690\n",
            "Epoch 69/100\n",
            "100/100 - 14s - loss: 0.4273 - acc: 0.8115 - val_loss: 0.5013 - val_acc: 0.7640\n",
            "Epoch 70/100\n",
            "100/100 - 14s - loss: 0.4254 - acc: 0.7995 - val_loss: 0.4302 - val_acc: 0.7910\n",
            "Epoch 71/100\n",
            "100/100 - 14s - loss: 0.4253 - acc: 0.8185 - val_loss: 0.5354 - val_acc: 0.7550\n",
            "Epoch 72/100\n",
            "100/100 - 14s - loss: 0.4283 - acc: 0.7910 - val_loss: 0.4457 - val_acc: 0.7960\n",
            "Epoch 73/100\n",
            "100/100 - 14s - loss: 0.4356 - acc: 0.7990 - val_loss: 0.4779 - val_acc: 0.7750\n",
            "Epoch 74/100\n",
            "100/100 - 14s - loss: 0.4164 - acc: 0.7995 - val_loss: 0.4212 - val_acc: 0.8040\n",
            "Epoch 75/100\n",
            "100/100 - 14s - loss: 0.4199 - acc: 0.8040 - val_loss: 0.4223 - val_acc: 0.7990\n",
            "Epoch 76/100\n",
            "100/100 - 14s - loss: 0.4213 - acc: 0.8060 - val_loss: 0.4481 - val_acc: 0.7830\n",
            "Epoch 77/100\n",
            "100/100 - 14s - loss: 0.4138 - acc: 0.8125 - val_loss: 0.4364 - val_acc: 0.7910\n",
            "Epoch 78/100\n",
            "100/100 - 14s - loss: 0.4043 - acc: 0.8150 - val_loss: 0.4216 - val_acc: 0.8080\n",
            "Epoch 79/100\n",
            "100/100 - 14s - loss: 0.4147 - acc: 0.8120 - val_loss: 0.4607 - val_acc: 0.7820\n",
            "Epoch 80/100\n",
            "100/100 - 14s - loss: 0.4104 - acc: 0.8190 - val_loss: 0.4218 - val_acc: 0.8070\n",
            "Epoch 81/100\n",
            "100/100 - 14s - loss: 0.4056 - acc: 0.8100 - val_loss: 0.4150 - val_acc: 0.7900\n",
            "Epoch 82/100\n",
            "100/100 - 15s - loss: 0.3943 - acc: 0.8280 - val_loss: 0.5168 - val_acc: 0.7780\n",
            "Epoch 83/100\n",
            "100/100 - 14s - loss: 0.4201 - acc: 0.8035 - val_loss: 0.4213 - val_acc: 0.8110\n",
            "Epoch 84/100\n",
            "100/100 - 14s - loss: 0.4065 - acc: 0.8215 - val_loss: 0.4401 - val_acc: 0.8010\n",
            "Epoch 85/100\n",
            "100/100 - 14s - loss: 0.4123 - acc: 0.8130 - val_loss: 0.4128 - val_acc: 0.8090\n",
            "Epoch 86/100\n",
            "100/100 - 14s - loss: 0.3953 - acc: 0.8250 - val_loss: 0.5665 - val_acc: 0.7770\n",
            "Epoch 87/100\n",
            "100/100 - 14s - loss: 0.4147 - acc: 0.8080 - val_loss: 0.4413 - val_acc: 0.7970\n",
            "Epoch 88/100\n",
            "100/100 - 14s - loss: 0.3928 - acc: 0.8200 - val_loss: 0.4769 - val_acc: 0.7840\n",
            "Epoch 89/100\n",
            "100/100 - 14s - loss: 0.4072 - acc: 0.8205 - val_loss: 0.4289 - val_acc: 0.8160\n",
            "Epoch 90/100\n",
            "100/100 - 14s - loss: 0.4166 - acc: 0.8145 - val_loss: 0.5234 - val_acc: 0.7620\n",
            "Epoch 91/100\n",
            "100/100 - 14s - loss: 0.3996 - acc: 0.8150 - val_loss: 0.4023 - val_acc: 0.8110\n",
            "Epoch 92/100\n",
            "100/100 - 14s - loss: 0.3833 - acc: 0.8310 - val_loss: 0.4710 - val_acc: 0.7850\n",
            "Epoch 93/100\n",
            "100/100 - 14s - loss: 0.3925 - acc: 0.8225 - val_loss: 0.4136 - val_acc: 0.8190\n",
            "Epoch 94/100\n",
            "100/100 - 14s - loss: 0.4127 - acc: 0.8105 - val_loss: 0.3981 - val_acc: 0.8120\n",
            "Epoch 95/100\n",
            "100/100 - 14s - loss: 0.3783 - acc: 0.8325 - val_loss: 0.4178 - val_acc: 0.8110\n",
            "Epoch 96/100\n",
            "100/100 - 14s - loss: 0.3895 - acc: 0.8265 - val_loss: 0.4014 - val_acc: 0.8210\n",
            "Epoch 97/100\n",
            "100/100 - 14s - loss: 0.3857 - acc: 0.8260 - val_loss: 0.3978 - val_acc: 0.8240\n",
            "Epoch 98/100\n",
            "100/100 - 14s - loss: 0.3939 - acc: 0.8250 - val_loss: 0.4144 - val_acc: 0.8080\n",
            "Epoch 99/100\n",
            "100/100 - 14s - loss: 0.3809 - acc: 0.8155 - val_loss: 0.4872 - val_acc: 0.7730\n",
            "Epoch 100/100\n",
            "100/100 - 14s - loss: 0.3927 - acc: 0.8265 - val_loss: 0.4083 - val_acc: 0.8210\n"
          ]
        }
      ],
      "source": [
        "!wget --no-check-certificate \\\n",
        "    https://storage.googleapis.com/mledu-datasets/cats_and_dogs_filtered.zip \\\n",
        "    -O /tmp/cats_and_dogs_filtered.zip\n",
        "  \n",
        "import os\n",
        "import zipfile\n",
        "import tensorflow as tf\n",
        "from tensorflow.keras.optimizers import RMSprop\n",
        "from tensorflow.keras.preprocessing.image import ImageDataGenerator\n",
        "\n",
        "local_zip = '/tmp/cats_and_dogs_filtered.zip'\n",
        "zip_ref = zipfile.ZipFile(local_zip, 'r')\n",
        "zip_ref.extractall('/tmp')\n",
        "zip_ref.close()\n",
        "\n",
        "base_dir = '/tmp/cats_and_dogs_filtered'\n",
        "train_dir = os.path.join(base_dir, 'train')\n",
        "validation_dir = os.path.join(base_dir, 'validation')\n",
        "\n",
        "# Directory with our training cat pictures\n",
        "train_cats_dir = os.path.join(train_dir, 'cats')\n",
        "\n",
        "# Directory with our training dog pictures\n",
        "train_dogs_dir = os.path.join(train_dir, 'dogs')\n",
        "\n",
        "# Directory with our validation cat pictures\n",
        "validation_cats_dir = os.path.join(validation_dir, 'cats')\n",
        "\n",
        "# Directory with our validation dog pictures\n",
        "validation_dogs_dir = os.path.join(validation_dir, 'dogs')\n",
        "\n",
        "model = tf.keras.models.Sequential([\n",
        "    tf.keras.layers.Conv2D(32, (3,3), activation='relu', input_shape=(150, 150, 3)),\n",
        "    tf.keras.layers.MaxPooling2D(2, 2),\n",
        "    tf.keras.layers.Conv2D(64, (3,3), activation='relu'),\n",
        "    tf.keras.layers.MaxPooling2D(2,2),\n",
        "    tf.keras.layers.Conv2D(128, (3,3), activation='relu'),\n",
        "    tf.keras.layers.MaxPooling2D(2,2),\n",
        "    tf.keras.layers.Conv2D(128, (3,3), activation='relu'),\n",
        "    tf.keras.layers.MaxPooling2D(2,2),\n",
        "    tf.keras.layers.Dropout(0.5),\n",
        "    tf.keras.layers.Flatten(),\n",
        "    tf.keras.layers.Dense(512, activation='relu'),\n",
        "    tf.keras.layers.Dense(1, activation='sigmoid')\n",
        "])\n",
        "\n",
        "model.compile(loss='binary_crossentropy',\n",
        "              optimizer=RMSprop(lr=1e-4),\n",
        "              metrics=['acc'])\n",
        "\n",
        "# This code has changed. Now instead of the ImageGenerator just rescaling\n",
        "# the image, we also rotate and do other operations\n",
        "# Updated to do image augmentation\n",
        "train_datagen = ImageDataGenerator(\n",
        "      rescale=1./255,\n",
        "      rotation_range=40,\n",
        "      width_shift_range=0.2,\n",
        "      height_shift_range=0.2,\n",
        "      shear_range=0.2,\n",
        "      zoom_range=0.2,\n",
        "      horizontal_flip=True,\n",
        "      fill_mode='nearest')\n",
        "\n",
        "test_datagen = ImageDataGenerator(rescale=1./255)\n",
        "\n",
        "# Flow training images in batches of 20 using train_datagen generator\n",
        "train_generator = train_datagen.flow_from_directory(\n",
        "        train_dir,  # This is the source directory for training images\n",
        "        target_size=(150, 150),  # All images will be resized to 150x150\n",
        "        batch_size=20,\n",
        "        # Since we use binary_crossentropy loss, we need binary labels\n",
        "        class_mode='binary')\n",
        "\n",
        "# Flow validation images in batches of 20 using test_datagen generator\n",
        "validation_generator = test_datagen.flow_from_directory(\n",
        "        validation_dir,\n",
        "        target_size=(150, 150),\n",
        "        batch_size=20,\n",
        "        class_mode='binary')\n",
        "\n",
        "history = model.fit_generator(\n",
        "      train_generator,\n",
        "      steps_per_epoch=100,  # 2000 images = batch_size * steps\n",
        "      epochs=100,\n",
        "      validation_data=validation_generator,\n",
        "      validation_steps=50,  # 1000 images = batch_size * steps\n",
        "      verbose=2)"
      ]
    },
    {
      "cell_type": "code",
      "execution_count": null,
      "metadata": {
        "colab": {
          "base_uri": "https://localhost:8080/",
          "height": 545
        },
        "colab_type": "code",
        "id": "pfQpaqzF4vsq",
        "outputId": "f8850d21-9e3d-4800-df31-4929ac25e291"
      },
      "outputs": [
        {
          "data": {
            "image/png": "[encoded data removed]",
            "text/plain": [
              "<Figure size 432x288 with 1 Axes>"
            ]
          },
          "metadata": {
            "tags": []
          },
          "output_type": "display_data"
        },
        {
          "data": {
            "image/png": "[encoded data removed]",
            "text/plain": [
              "<Figure size 432x288 with 1 Axes>"
            ]
          },
          "metadata": {
            "tags": []
          },
          "output_type": "display_data"
        }
      ],
      "source": [
        "import matplotlib.pyplot as plt\n",
        "acc = history.history['acc']\n",
        "val_acc = history.history['val_acc']\n",
        "loss = history.history['loss']\n",
        "val_loss = history.history['val_loss']\n",
        "\n",
        "epochs = range(len(acc))\n",
        "\n",
        "plt.plot(epochs, acc, 'bo', label='Training accuracy')\n",
        "plt.plot(epochs, val_acc, 'b', label='Validation accuracy')\n",
        "plt.title('Training and validation accuracy')\n",
        "\n",
        "plt.figure()\n",
        "\n",
        "plt.plot(epochs, loss, 'bo', label='Training Loss')\n",
        "plt.plot(epochs, val_loss, 'b', label='Validation Loss')\n",
        "plt.title('Training and validation loss')\n",
        "plt.legend()\n",
        "\n",
        "plt.show()"
      ]
    },
    {
      "cell_type": "markdown",
      "metadata": {
        "colab_type": "text",
        "id": "D1L7ZjJ85ll4"
      },
      "source": [
        "Both the training and validation accuracies are about **82%** with a better loss curve."
      ]
    },
    {
      "cell_type": "markdown",
      "metadata": {
        "colab_type": "text",
        "id": "pBL71oPF5-Jj"
      },
      "source": [
        "This is a decent result considering that we trained on only 2000 training images versus the original dataset of 22,500 training images.\n",
        "In case of Deep Learning, performance almost always increases when we train on more data.\n",
        "I expect that I will experience a similar result when working with the full dataset next."
      ]
    }
  ],
  "metadata": {
    "accelerator": "GPU",
    "colab": {
      "collapsed_sections": [],
      "name": "dogsVcats_subset_v2",
      "provenance": [],
      "version": "0.3.2"
    },
    "kernelspec": {
      "display_name": "Python 3",
      "name": "python3"
    }
  },
  "nbformat": 4,
  "nbformat_minor": 0
}
